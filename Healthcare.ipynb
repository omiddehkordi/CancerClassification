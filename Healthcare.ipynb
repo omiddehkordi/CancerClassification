{
 "cells": [
  {
   "cell_type": "code",
   "execution_count": null,
   "id": "98291c31",
   "metadata": {},
   "outputs": [],
   "source": [
    "import pandas as pd\n",
    "import numpy as np\n",
    "import seaborn as sns\n",
    "import matplotlib.pyplot as plt\n",
    "%matplotlib inline\n",
    "\n",
    "from sklearn.decomposition import PCA\n",
    "from sklearn.discriminant_analysis import LinearDiscriminantAnalysis as LDA\n",
    "from sklearn.manifold import TSNE\n",
    "\n",
    "from sklearn.cluster import KMeans\n",
    "from sklearn.cluster import MeanShift\n",
    "from sklearn.cluster import AgglomerativeClustering\n",
    "\n",
    "from sklearn.svm import SVC\n",
    "from sklearn.ensemble import RandomForestClassifier\n",
    "from tensorflow.keras.models import Sequential\n",
    "from tensorflow.keras.layers import Dense, Dropout"
   ]
  },
  {
   "cell_type": "code",
   "execution_count": null,
   "id": "dcef0f3d",
   "metadata": {},
   "outputs": [],
   "source": [
    "data = pd.read_csv(\"data.csv\")\n",
    "labels = pd.read_csv(\"labels.csv\")"
   ]
  },
  {
   "cell_type": "code",
   "execution_count": null,
   "id": "9561429c",
   "metadata": {},
   "outputs": [],
   "source": [
    "data.head()"
   ]
  },
  {
   "cell_type": "code",
   "execution_count": null,
   "id": "ad7d325b",
   "metadata": {},
   "outputs": [],
   "source": [
    "labels.head()"
   ]
  },
  {
   "cell_type": "code",
   "execution_count": null,
   "id": "86c0aee8",
   "metadata": {},
   "outputs": [],
   "source": [
    "#merge both the datasets\n",
    "\n",
    "labeled_data = data.merge(labels)\n",
    "labeled_data.head()"
   ]
  },
  {
   "cell_type": "code",
   "execution_count": null,
   "id": "9e877f9e",
   "metadata": {},
   "outputs": [],
   "source": [
    "labeled_data.shape"
   ]
  },
  {
   "cell_type": "code",
   "execution_count": null,
   "id": "a36605e6",
   "metadata": {},
   "outputs": [],
   "source": [
    "#plot as hierarchically-clustered heatmap\n",
    "\n",
    "columns = [column for column in labeled_data.columns if labeled_data[column].dtype == 'float64']\n",
    "\n",
    "sns.clustermap(labeled_data[columns], figsize=(9,9))"
   ]
  },
  {
   "cell_type": "code",
   "execution_count": null,
   "id": "ec6c805d",
   "metadata": {},
   "outputs": [],
   "source": [
    "def all_v(p):\n",
    "    for x in range(0, len(p)):\n",
    "        if p[x] < 0.05:\n",
    "            return 0\n",
    "        elif x >= len(p) - 1:\n",
    "            return 1"
   ]
  },
  {
   "cell_type": "code",
   "execution_count": null,
   "id": "6084bf6d",
   "metadata": {},
   "outputs": [],
   "source": [
    "#Null Hypothesis Testing using TTest and ANOVA\n",
    "import scipy.stats as stats\n",
    "\n",
    "from scipy.stats import ttest_ind, f_oneway\n",
    "\n",
    "gene_brca = labeled_data[labeled_data['Class'] == 'BRCA']\n",
    "gene_kirc = labeled_data[labeled_data['Class'] == 'KIRC']\n",
    "gene_coad = labeled_data[labeled_data['Class'] == 'COAD']\n",
    "gene_luad = labeled_data[labeled_data['Class'] == 'LUAD']\n",
    "gene_prad = labeled_data[labeled_data['Class'] == 'PRAD']\n",
    "\n",
    "_, p_value_brca = ttest_ind(gene_brca[columns], labeled_data[columns].drop(gene_brca.index))\n",
    "_, p_value_kirc = ttest_ind(gene_kirc[columns], labeled_data[columns].drop(gene_kirc.index))\n",
    "_, p_value_coad = ttest_ind(gene_coad[columns], labeled_data[columns].drop(gene_coad.index))\n",
    "_, p_value_luad = ttest_ind(gene_luad[columns], labeled_data[columns].drop(gene_luad.index))\n",
    "_, p_value_prad = ttest_ind(gene_prad[columns], labeled_data[columns].drop(gene_prad.index))\n",
    "\n",
    "_, p_value_anova = f_oneway(gene_brca[columns], gene_kirc[columns], gene_coad[columns], gene_luad[columns], gene_prad[columns])\n",
    "\n",
    "if all_v(p_value_anova) < 0.05:\n",
    "    print(\"Null hypothesis rejected. Significant differences among cancer types.\")\n",
    "else:\n",
    "    print(\"Null hypothesis accepted. No significant differences among cancer types.\")\n",
    "    \n",
    "if all_v(p_value_brca) < 0.05:\n",
    "    print(\"Null hypothesis rejected. There are significant differences among BRCA and other cancer types.\")\n",
    "else:\n",
    "    print(\"Null hypothesis accepted. There are no significant differences among BRCA and other cancer types.\")\n",
    "\n",
    "if all_v(p_value_kirc) < 0.05:\n",
    "    print(\"Null hypothesis rejected. There are significant differences among KIRC and other cancer types.\")\n",
    "else:\n",
    "    print(\"Null hypothesis accepted. There are no significant differences among KIRC and other cancer types.\")\n",
    "    \n",
    "if all_v(p_value_coad) < 0.05:\n",
    "    print(\"Null hypothesis rejected. There are significant differences among COAD and other cancer types.\")\n",
    "else:\n",
    "    print(\"Null hypothesis accepted. There are no significant differences among COAD and other cancer types.\")\n",
    "    \n",
    "if all_v(p_value_luad) < 0.05:\n",
    "    print(\"Null hypothesis rejected. There are significant differences among LUAD and other cancer types.\")\n",
    "else:\n",
    "    print(\"Null hypothesis accepted. There are no significant differences among LUAD and other cancer types.\")\n",
    "    \n",
    "if all_v(p_value_prad) < 0.05:\n",
    "    print(\"Null hypothesis rejected. There are significant differences among PRAD and other cancer types.\")\n",
    "else:\n",
    "    print(\"Null hypothesis accepted. There are no significant differences among PRAD and other cancer types.\")"
   ]
  },
  {
   "cell_type": "code",
   "execution_count": null,
   "id": "5a3bf744",
   "metadata": {},
   "outputs": [],
   "source": [
    "labeled_data.head()"
   ]
  },
  {
   "cell_type": "code",
   "execution_count": null,
   "id": "0d039ecc",
   "metadata": {},
   "outputs": [],
   "source": [
    "from sklearn.model_selection import train_test_split\n",
    "\n",
    "X = labeled_data[columns].values\n",
    "Y = labeled_data['Class'].values\n",
    "\n",
    "X_train, X_test, y_train, y_test = train_test_split(X, Y, random_state=42)"
   ]
  },
  {
   "cell_type": "code",
   "execution_count": null,
   "id": "df78e455",
   "metadata": {},
   "outputs": [],
   "source": [
    "#Dimensionality reduction\n",
    "\n",
    "#PCA for samples\n",
    "\n",
    "pca = PCA(n_components=25)\n",
    "#pca.fit(labeled_data[columns])\n",
    "pca.fit(X_train)\n",
    "\n",
    "cluster_pca_data = pca.transform(labeled_data[columns])\n",
    "pca_data = pca.transform(X_train)\n",
    "test_pca_data = pca.transform(X_test)\n",
    "print(pca_data)"
   ]
  },
  {
   "cell_type": "code",
   "execution_count": null,
   "id": "efcf88f3",
   "metadata": {},
   "outputs": [],
   "source": [
    "sns.clustermap(pca_data, figsize=(9,9))"
   ]
  },
  {
   "cell_type": "code",
   "execution_count": null,
   "id": "04445f61",
   "metadata": {},
   "outputs": [],
   "source": [
    "genes = labeled_data.T\n",
    "genes = genes.drop(['Unnamed: 0'])\n",
    "genes = genes.drop(['Class'])\n",
    "genes.tail()"
   ]
  },
  {
   "cell_type": "code",
   "execution_count": null,
   "id": "ae4cb798",
   "metadata": {},
   "outputs": [],
   "source": [
    "#PCA for genes\n",
    "\n",
    "pca = PCA(n_components=25)\n",
    "pca.fit(genes)\n",
    "\n",
    "pca_genes = pca.transform(genes)\n",
    "print(pca_genes)"
   ]
  },
  {
   "cell_type": "code",
   "execution_count": null,
   "id": "b4dad3ee",
   "metadata": {},
   "outputs": [],
   "source": [
    "#LDA\n",
    "\n",
    "lda = LDA(n_components=2)\n",
    "lda.fit(X_train, y_train)\n",
    "\n",
    "lda_data = lda.transform(X_train)\n",
    "test_lda_data = lda.transform(X_test)\n",
    "print(lda_data)"
   ]
  },
  {
   "cell_type": "code",
   "execution_count": null,
   "id": "0d4fe7f3",
   "metadata": {},
   "outputs": [],
   "source": [
    "#t-SNE\n",
    "\n",
    "tsne = TSNE(n_components=2)\n",
    "tsne_data = tsne.fit_transform(labeled_data[columns])\n",
    "print(tsne_data)"
   ]
  },
  {
   "cell_type": "code",
   "execution_count": null,
   "id": "911d16e9",
   "metadata": {},
   "outputs": [],
   "source": [
    "#Clustering \n",
    "#Kmeans\n",
    "\n",
    "#Clustering on all samples\n",
    "kmeans = KMeans(n_clusters=5, random_state=42)\n",
    "kmeans.fit(cluster_pca_data)\n",
    "predictions = kmeans.fit_predict(cluster_pca_data)\n",
    "labeled_data.insert(len(labeled_data.columns), \"Sample_Kmeans\" , predictions, allow_duplicates=True)\n",
    "labeled_data.head()"
   ]
  },
  {
   "cell_type": "code",
   "execution_count": null,
   "id": "318b8d4e",
   "metadata": {},
   "outputs": [],
   "source": [
    "plt.scatter(cluster_pca_data[:,0],cluster_pca_data[:,1], c=predictions)\n",
    "plt.xlabel('Principal Component 1')\n",
    "plt.ylabel('Principal Component 2')\n",
    "plt.title('K-means Clustering on Sample PCA-transformed Data')\n",
    "    \n",
    "plt.show()"
   ]
  },
  {
   "cell_type": "code",
   "execution_count": null,
   "id": "2192aa4c",
   "metadata": {},
   "outputs": [],
   "source": [
    "#Clustering on all genes\n",
    "\n",
    "kmeans = KMeans(n_clusters=5, random_state=42)\n",
    "kmeans.fit(pca_genes)\n",
    "predictions = kmeans.fit_predict(pca_genes)\n",
    "genes.insert(len(genes.columns), \"Gene_Kmeans\" , predictions, allow_duplicates=True)\n",
    "genes.head()"
   ]
  },
  {
   "cell_type": "code",
   "execution_count": null,
   "id": "14272a49",
   "metadata": {},
   "outputs": [],
   "source": [
    "plt.scatter(pca_genes[:,0],pca_genes[:,1], c=predictions)\n",
    "plt.xlabel('Principal Component 1')\n",
    "plt.ylabel('Principal Component 2')\n",
    "plt.title('K-means Clustering on Gene PCA-transformed Data')\n",
    "plt.show()"
   ]
  },
  {
   "cell_type": "code",
   "execution_count": null,
   "id": "7b6ecd2d",
   "metadata": {},
   "outputs": [],
   "source": [
    "#Hierarchical Clustering\n",
    "\n",
    "#Clustering on all samples\n",
    "\n",
    "hc = AgglomerativeClustering(n_clusters=5, affinity='euclidean', linkage='ward')\n",
    "hc.fit(cluster_pca_data)\n",
    "h_predictions = hc.fit_predict(cluster_pca_data)\n",
    "labeled_data.insert(len(labeled_data.columns), \"Sample_HC\" , h_predictions, allow_duplicates=True)\n",
    "labeled_data.head(10)"
   ]
  },
  {
   "cell_type": "code",
   "execution_count": null,
   "id": "e78ba71f",
   "metadata": {},
   "outputs": [],
   "source": [
    "#Clustering on all genes\n",
    "hc = AgglomerativeClustering(n_clusters=5, affinity='euclidean', linkage='ward')\n",
    "hc.fit(pca_genes)\n",
    "h_predictions = hc.fit_predict(pca_genes)\n",
    "genes.insert(len(genes.columns), \"Gene_HC\" , h_predictions, allow_duplicates=True)\n",
    "genes.head(10)"
   ]
  },
  {
   "cell_type": "code",
   "execution_count": null,
   "id": "5c46eae2",
   "metadata": {
    "scrolled": true
   },
   "outputs": [],
   "source": [
    "#Mean-shit Clustering\n",
    "\n",
    "#Clustering on all samples\n",
    "\n",
    "meanshift = MeanShift()\n",
    "meanshift.fit(cluster_pca_data)\n",
    "m_predictions = meanshift.fit_predict(cluster_pca_data)\n",
    "labeled_data.insert(len(labeled_data.columns), \"Sample_MSC\" , m_predictions, allow_duplicates=True)\n",
    "labeled_data.head(10)"
   ]
  },
  {
   "cell_type": "code",
   "execution_count": null,
   "id": "0b31a0b5",
   "metadata": {},
   "outputs": [],
   "source": [
    "#Clustering on all genes\n",
    "\n",
    "#Takes too long\n",
    "\n",
    "#meanshift = MeanShift()\n",
    "#meanshift.fit(pca_genes)\n",
    "#m_predictions = meanshift.fit_predict(pca_genes)\n",
    "#genes.insert(len(genes.columns), \"Sample_MSC\" , m_predictions, allow_duplicates=True)\n",
    "#genes.head()"
   ]
  },
  {
   "cell_type": "code",
   "execution_count": null,
   "id": "37e52d2d",
   "metadata": {},
   "outputs": [],
   "source": [
    "from tensorflow.keras.utils import to_categorical\n",
    "from sklearn.preprocessing import LabelEncoder\n",
    "\n",
    "label_encoder = LabelEncoder()\n",
    "y_encoded = label_encoder.fit_transform(labeled_data['Class'].values)"
   ]
  },
  {
   "cell_type": "code",
   "execution_count": null,
   "id": "ce180b26",
   "metadata": {},
   "outputs": [],
   "source": [
    "#Building Robust Classification Model to identify each type of Cancer\n",
    "\n",
    "#from sklearn.model_selection import train_test_split\n",
    "\n",
    "X = labeled_data[columns].values\n",
    "Y = labeled_data['Class'].values\n",
    "\n",
    "nX_train, nX_test, ny_train, ny_test = train_test_split(X, y_encoded, random_state=42)"
   ]
  },
  {
   "cell_type": "code",
   "execution_count": null,
   "id": "dbc88bfa",
   "metadata": {},
   "outputs": [],
   "source": [
    "#Deep Neural Network\n",
    "\n",
    "nn_model = Sequential()\n",
    "nn_model.add(Dense(512, activation='relu', input_shape=(20531,)))\n",
    "nn_model.add(Dropout(0,3))\n",
    "nn_model.add(Dense(512, activation='relu'))\n",
    "nn_model.add(Dropout(0,3))\n",
    "nn_model.add(Dense(512, activation='relu'))\n",
    "nn_model.add(Dropout(0,3))\n",
    "nn_model.add(Dense(5, activation='softmax'))"
   ]
  },
  {
   "cell_type": "code",
   "execution_count": null,
   "id": "d0e31380",
   "metadata": {},
   "outputs": [],
   "source": [
    "nn_model.compile(optimizer='adam', loss = 'sparse_categorical_crossentropy', metrics=['accuracy'])"
   ]
  },
  {
   "cell_type": "code",
   "execution_count": null,
   "id": "da0ae332",
   "metadata": {},
   "outputs": [],
   "source": [
    "nn_model.fit(nX_train, ny_train, epochs=5, validation_data=(nX_test, ny_test))"
   ]
  },
  {
   "cell_type": "code",
   "execution_count": null,
   "id": "203cc16e",
   "metadata": {},
   "outputs": [],
   "source": [
    "from sklearn.metrics import classification_report\n",
    "\n",
    "score = nn_model.evaluate(nX_test, ny_test)"
   ]
  },
  {
   "cell_type": "code",
   "execution_count": null,
   "id": "2d7871da",
   "metadata": {},
   "outputs": [],
   "source": [
    "predictions = nn_model.predict(nX_test)\n",
    "pred_class = np.argmax(predictions, axis=1)\n",
    "print(pred_class)"
   ]
  },
  {
   "cell_type": "code",
   "execution_count": null,
   "id": "a817a453",
   "metadata": {},
   "outputs": [],
   "source": [
    "print(classification_report(ny_test, pred_class))"
   ]
  },
  {
   "cell_type": "code",
   "execution_count": null,
   "id": "c69ee404",
   "metadata": {},
   "outputs": [],
   "source": [
    "#Random Forest\n",
    "\n",
    "#rX_train, rX_test, ry_train, ry_test = train_test_split(pca_data, Y, random_state=42)\n",
    "\n",
    "rf = RandomForestClassifier(max_depth=2, random_state=0)\n",
    "rf.fit(pca_data, y_train)\n",
    "\n",
    "rf_predictions = rf.predict(test_pca_data)\n",
    "print(classification_report(y_test, rf_predictions))"
   ]
  },
  {
   "cell_type": "code",
   "execution_count": null,
   "id": "cdfa2181",
   "metadata": {},
   "outputs": [],
   "source": [
    "#multiclass SVM\n",
    "\n",
    "svm = SVC()\n",
    "svm.fit(pca_data, y_train)\n",
    "\n",
    "svm_predictions = svm.predict(test_pca_data)\n",
    "print(classification_report(y_test, svm_predictions))"
   ]
  },
  {
   "cell_type": "code",
   "execution_count": null,
   "id": "6dea545a",
   "metadata": {},
   "outputs": [],
   "source": [
    "#Feature Selection Algorithms\n",
    "\n",
    "#For the Deep Neural Network\n",
    "\n",
    "#Deep Neural Networks don't rely on Feature Selection, because the number of layers and the \n",
    "#weights of the neurons at each level perform feature selection during the training phase\n"
   ]
  },
  {
   "cell_type": "code",
   "execution_count": null,
   "id": "ee7fa869",
   "metadata": {},
   "outputs": [],
   "source": [
    "from sklearn.feature_selection import SequentialFeatureSelector\n",
    "\n",
    "#For the Random Forest Model\n",
    "\n",
    "rf_forward = RandomForestClassifier(max_depth=2, random_state=0)\n",
    "\n",
    "forward_selector = SequentialFeatureSelector(rf_forward, direction='forward')\n",
    "forward_selector.fit(pca_data, y_train)\n",
    "\n",
    "rX_train_forward = forward_selector.transform(pca_data)\n",
    "rX_test_forward = forward_selector.transform(test_pca_data)\n",
    "\n",
    "rf.fit(rX_train_forward, y_train)\n",
    "\n",
    "rf_predictions = rf.predict(rX_test_forward)\n",
    "print(classification_report(y_test, rf_predictions))"
   ]
  },
  {
   "cell_type": "code",
   "execution_count": null,
   "id": "ffc85465",
   "metadata": {},
   "outputs": [],
   "source": [
    "from sklearn.feature_selection import RFE\n",
    "\n",
    "rf_backward = RandomForestClassifier(max_depth=2, random_state=0)\n",
    "\n",
    "backward_selector = RFE(rf_backward)\n",
    "backward_selector.fit(pca_data, y_train)\n",
    "\n",
    "rX_train_backward = backward_selector.transform(pca_data)\n",
    "rX_test_backward = backward_selector.transform(test_pca_data)\n",
    "\n",
    "rf.fit(rX_train_backward, y_train)\n",
    "\n",
    "back_rf_predictions = rf.predict(rX_test_backward)\n",
    "print(classification_report(y_test, back_rf_predictions))"
   ]
  },
  {
   "cell_type": "code",
   "execution_count": null,
   "id": "8b01b235",
   "metadata": {},
   "outputs": [],
   "source": [
    "#For the Multiclass SVM Model\n",
    "\n",
    "svc_forward = SVC()\n",
    "\n",
    "svc_forward_selector = SequentialFeatureSelector(svc_forward, direction='forward')\n",
    "svc_forward_selector.fit(pca_data, y_train)\n",
    "\n",
    "sX_train_forward = svc_forward_selector.transform(pca_data)\n",
    "sX_test_forward = svc_forward_selector.transform(test_pca_data)\n",
    "\n",
    "svm.fit(sX_train_forward, y_train)\n",
    "\n",
    "svc_predictions = svm.predict(sX_test_forward)\n",
    "print(classification_report(y_test, svc_predictions))\n",
    "\n",
    "#backward elimination isn't used in multiclass SVM, feature selection comes as a result of overall performance"
   ]
  },
  {
   "cell_type": "code",
   "execution_count": null,
   "id": "0173c70b",
   "metadata": {},
   "outputs": [],
   "source": [
    "rf_forward_data = np.concatenate((rX_train_forward, rX_test_forward), axis=0)\n",
    "rf_backward_data = np.concatenate((rX_train_backward, rX_test_backward), axis=0)   \n",
    "svc_forward_data = np.concatenate((sX_train_forward, sX_test_forward), axis=0)\n",
    "\n",
    "print(rf_forward_data.shape)"
   ]
  },
  {
   "cell_type": "code",
   "execution_count": null,
   "id": "ef5bf70e",
   "metadata": {},
   "outputs": [],
   "source": [
    "rff_df = pd.DataFrame(rf_forward_data)\n",
    "rff_df.insert(len(rff_df.columns), \"Class\" , np.concatenate((y_train, y_test), axis=0), allow_duplicates=True)\n",
    "\n",
    "rfb_df = pd.DataFrame(rf_backward_data)\n",
    "rfb_df.insert(len(rfb_df.columns), \"Class\" , np.concatenate((y_train, y_test), axis=0), allow_duplicates=True)\n",
    "\n",
    "svcf_df = pd.DataFrame(svc_forward_data)\n",
    "svcf_df.insert(len(svcf_df.columns), \"Class\" , np.concatenate((y_train, y_test), axis=0), allow_duplicates=True)\n",
    "\n",
    "gene_names = [column for column in rff_df.columns if rff_df[column].dtype == 'float64']"
   ]
  },
  {
   "cell_type": "code",
   "execution_count": null,
   "id": "1f78d9df",
   "metadata": {},
   "outputs": [],
   "source": [
    "rff_df.head()"
   ]
  },
  {
   "cell_type": "code",
   "execution_count": null,
   "id": "3dc31d94",
   "metadata": {},
   "outputs": [],
   "source": [
    "print(rff_df[gene_names].columns)"
   ]
  },
  {
   "cell_type": "code",
   "execution_count": null,
   "id": "bf506d9d",
   "metadata": {},
   "outputs": [],
   "source": [
    "#Statistical Significance Testing to validate genes from Feature Selection Step\n",
    "\n",
    "from scipy.stats import ttest_ind\n",
    "from scipy.stats import f_oneway\n",
    "\n",
    "#Random Forest Values Forward\n",
    "#t-test for one vs all\n",
    "\n",
    "classes = ['PRAD', 'LUAD', 'BRCA', 'KIRC', 'COAD']\n",
    "ttest_pvals = []\n",
    "\n",
    "for x in rff_df[gene_names].columns:\n",
    "    gene = rff_df[x]\n",
    "    gene_p_val = []\n",
    "    for y in classes:\n",
    "        group1_expression = rff_df[gene_names[x]][rff_df['Class'] == y] \n",
    "        group2_expression = rff_df[gene_names[x]][rff_df['Class'] != y]  \n",
    "        _, p_value = ttest_ind(group1_expression, group2_expression)\n",
    "        gene_p_val.append(p_value)\n",
    "    ttest_pvals.append(gene_p_val)\n",
    "\n",
    "#F-test\n",
    "\n",
    "_, p_value_f = f_oneway(rff_df[gene_names][rff_df['Class'] == 'PRAD'], rff_df[gene_names][rff_df['Class'] == 'LUAD'], rff_df[gene_names][rff_df['Class'] == 'BRCA'], rff_df[gene_names][rff_df['Class'] == 'KIRC'], rff_df[gene_names][rff_df['Class'] == 'COAD'])\n"
   ]
  },
  {
   "cell_type": "code",
   "execution_count": null,
   "id": "5d3ebaf8",
   "metadata": {},
   "outputs": [],
   "source": [
    "#T-test Validation for RFF\n",
    "i = 1\n",
    "for x in range(0, len(ttest_pvals)):\n",
    "    for y in range(0, len(ttest_pvals[x])):\n",
    "        if ttest_pvals[x][y] < 0.05:\n",
    "            print(\"H0 Rejected. Component \" + str(i) + \" has significant difference to the other components.\")\n",
    "            break\n",
    "        elif y >= len(ttest_pvals[x]) - 1:\n",
    "            print(\"H0 Accepted. Component \" + str(i) + \" has no significant difference to the other components.\")\n",
    "    i = i + 1\n",
    "        "
   ]
  },
  {
   "cell_type": "code",
   "execution_count": null,
   "id": "268b3d21",
   "metadata": {},
   "outputs": [],
   "source": [
    "#F-test Validation for RFF\n",
    "\n",
    "for x in range(0, len(p_value_f)):\n",
    "    if p_value_f[x] < 0.05:\n",
    "        print(\"H0 Rejected. Components have significant differences \")\n",
    "        break\n",
    "    elif x >= len(p_value_f) - 1:\n",
    "        print(\"H0 Accepted. Components don't have significant differences\")\n",
    "    "
   ]
  },
  {
   "cell_type": "code",
   "execution_count": null,
   "id": "753ba027",
   "metadata": {},
   "outputs": [],
   "source": [
    "#Random Forest Values Backward\n",
    "#t-test for one vs all\n",
    "\n",
    "classes = ['PRAD', 'LUAD', 'BRCA', 'KIRC', 'COAD']\n",
    "ttest_pvals = []\n",
    "\n",
    "for x in rfb_df[gene_names].columns:\n",
    "    gene = rfb_df[x]\n",
    "    gene_p_val = []\n",
    "    for y in classes:\n",
    "        group1_expression = rfb_df[gene_names[x]][rfb_df['Class'] == y] \n",
    "        group2_expression = rfb_df[gene_names[x]][rfb_df['Class'] != y]  \n",
    "        _, p_value = ttest_ind(group1_expression, group2_expression)\n",
    "        gene_p_val.append(p_value)\n",
    "    ttest_pvals.append(gene_p_val)\n",
    "\n",
    "#F-test\n",
    "\n",
    "_, p_value_f = f_oneway(rfb_df[gene_names][rfb_df['Class'] == 'PRAD'], rfb_df[gene_names][rfb_df['Class'] == 'LUAD'], rfb_df[gene_names][rfb_df['Class'] == 'BRCA'], rfb_df[gene_names][rfb_df['Class'] == 'KIRC'], rfb_df[gene_names][rfb_df['Class'] == 'COAD'])\n",
    "\n"
   ]
  },
  {
   "cell_type": "code",
   "execution_count": null,
   "id": "49ab4e6b",
   "metadata": {},
   "outputs": [],
   "source": [
    "#T-test Validation for RFB\n",
    "i = 1\n",
    "for x in range(0, len(ttest_pvals)):\n",
    "    for y in range(0, len(ttest_pvals[x])):\n",
    "        if ttest_pvals[x][y] < 0.05:\n",
    "            print(\"H0 Rejected. Component \" + str(i) + \" has significant difference to the other components.\")\n",
    "            break\n",
    "        elif y >= len(ttest_pvals[x]) - 1:\n",
    "            print(\"H0 Accepted. Component \" + str(i) + \" has no significant difference to the other components.\")\n",
    "    i = i + 1"
   ]
  },
  {
   "cell_type": "code",
   "execution_count": null,
   "id": "b30e8dc0",
   "metadata": {},
   "outputs": [],
   "source": [
    "#F-test Validation for RBF\n",
    "\n",
    "for x in range(0, len(p_value_f)):\n",
    "    if p_value_f[x] < 0.05:\n",
    "        print(\"H0 Rejected. Components have significant differences \")\n",
    "        break\n",
    "    elif x >= len(p_value_f) - 1:\n",
    "        print(\"H0 Accepted. Components don't have significant differences\")"
   ]
  },
  {
   "cell_type": "code",
   "execution_count": null,
   "id": "452fe35c",
   "metadata": {},
   "outputs": [],
   "source": [
    "#SVM Forward\n",
    "#t-test for one vs all\n",
    "\n",
    "classes = ['PRAD', 'LUAD', 'BRCA', 'KIRC', 'COAD']\n",
    "ttest_pvals = []\n",
    "\n",
    "for x in svcf_df[gene_names].columns:\n",
    "    gene = svcf_df[x]\n",
    "    gene_p_val = []\n",
    "    for y in classes:\n",
    "        group1_expression = svcf_df[gene_names[x]][svcf_df['Class'] == y] \n",
    "        group2_expression = svcf_df[gene_names[x]][svcf_df['Class'] != y]  \n",
    "        _, p_value = ttest_ind(group1_expression, group2_expression)\n",
    "        gene_p_val.append(p_value)\n",
    "    ttest_pvals.append(gene_p_val)\n",
    "\n",
    "#F-test\n",
    "\n",
    "_, p_value_f = f_oneway(svcf_df[gene_names][svcf_df['Class'] == 'PRAD'], svcf_df[gene_names][svcf_df['Class'] == 'LUAD'], svcf_df[gene_names][svcf_df['Class'] == 'BRCA'], svcf_df[gene_names][svcf_df['Class'] == 'KIRC'], svcf_df[gene_names][svcf_df['Class'] == 'COAD'])\n",
    "\n"
   ]
  },
  {
   "cell_type": "code",
   "execution_count": null,
   "id": "5c41b83a",
   "metadata": {},
   "outputs": [],
   "source": [
    "#T-test Validation for SVCF\n",
    "i = 1\n",
    "for x in range(0, len(ttest_pvals)):\n",
    "    for y in range(0, len(ttest_pvals[x])):\n",
    "        if ttest_pvals[x][y] < 0.05:\n",
    "            print(\"H0 Rejected. Component \" + str(i) + \" has significant difference to the other components.\")\n",
    "            break\n",
    "        elif y >= len(ttest_pvals[x]) - 1:\n",
    "            print(\"H0 Accepted. Component \" + str(i) + \" has no significant difference to the other components.\")\n",
    "    i = i + 1"
   ]
  },
  {
   "cell_type": "code",
   "execution_count": null,
   "id": "869bcc13",
   "metadata": {},
   "outputs": [],
   "source": [
    "#F-test Validation for SVCF\n",
    "for x in range(0, len(p_value_f)):\n",
    "    if p_value_f[x] < 0.05:\n",
    "        print(\"H0 Rejected. Components have significant differences \")\n",
    "        break\n",
    "    elif x >= len(p_value_f) - 1:\n",
    "        print(\"H0 Accepted. Components don't have significant differences\")"
   ]
  },
  {
   "cell_type": "code",
   "execution_count": null,
   "id": "3836cf0e",
   "metadata": {},
   "outputs": [],
   "source": []
  }
 ],
 "metadata": {
  "kernelspec": {
   "display_name": "Python 3 (ipykernel)",
   "language": "python",
   "name": "python3"
  },
  "language_info": {
   "codemirror_mode": {
    "name": "ipython",
    "version": 3
   },
   "file_extension": ".py",
   "mimetype": "text/x-python",
   "name": "python",
   "nbconvert_exporter": "python",
   "pygments_lexer": "ipython3",
   "version": "3.9.13"
  }
 },
 "nbformat": 4,
 "nbformat_minor": 5
}
